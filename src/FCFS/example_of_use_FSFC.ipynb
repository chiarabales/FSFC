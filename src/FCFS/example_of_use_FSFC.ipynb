{
 "cells": [
  {
   "cell_type": "code",
   "execution_count": 1,
   "metadata": {},
   "outputs": [],
   "source": [
    "import numpy as np\n",
    "import FCFS"
   ]
  },
  {
   "cell_type": "code",
   "execution_count": 2,
   "metadata": {},
   "outputs": [],
   "source": [
    "def create_data(size):\n",
    "    x0 = np.random.randint(0, 3, size)\n",
    "    x1 = np.random.randint(0, 5, size)\n",
    "    x3 = np.random.randint(0, 2, size)\n",
    "    x4 = np.random.randint(x3.max(), x3.max()+2, size)\n",
    "    x2 = 2*x0+x1-x3\n",
    "    x5 = 3*x4\n",
    "    data = np.concatenate((x0, x1.T, x2.T, x3.T, x4.T, x5.T))\n",
    "    data = np.reshape(data, (6 , size))\n",
    "    return data\n",
    "\n",
    "mydata = create_data_2(10)"
   ]
  },
  {
   "cell_type": "code",
   "execution_count": 4,
   "metadata": {},
   "outputs": [
    {
     "data": {
      "text/plain": [
       "{9}"
      ]
     },
     "execution_count": 4,
     "metadata": {},
     "output_type": "execute_result"
    }
   ],
   "source": [
    "FCFS.FSFC(mydata, 6)"
   ]
  },
  {
   "cell_type": "code",
   "execution_count": null,
   "metadata": {},
   "outputs": [],
   "source": []
  }
 ],
 "metadata": {
  "kernelspec": {
   "display_name": "Python 3",
   "language": "python",
   "name": "python3"
  },
  "language_info": {
   "codemirror_mode": {
    "name": "ipython",
    "version": 3
   },
   "file_extension": ".py",
   "mimetype": "text/x-python",
   "name": "python",
   "nbconvert_exporter": "python",
   "pygments_lexer": "ipython3",
   "version": "3.8.3"
  }
 },
 "nbformat": 4,
 "nbformat_minor": 4
}
